{
 "cells": [
  {
   "cell_type": "markdown",
   "metadata": {},
   "source": [
    "# BAG OF WORDS\n",
    "\n",
    "1. Binary BOW\n",
    "2. BOW"
   ]
  },
  {
   "cell_type": "code",
   "execution_count": 33,
   "metadata": {},
   "outputs": [],
   "source": [
    "import nltk"
   ]
  },
  {
   "cell_type": "code",
   "execution_count": 35,
   "metadata": {},
   "outputs": [],
   "source": [
    "paragraph = \"\"\"In all beginning there dwells a magic force. \n",
    "               Jedem Anfang wohnt ein Zauber inne. I cannot help but think of this famous line of the poet Hermann Hesse when looking forward to the inauguration of Joe Biden in a few hours from now. \n",
    "               Joe Biden's oath will be a message of healing for a deeply divided nation.\n",
    "               And it will be a message of hope for a world that is waiting for the U.S. to be back in the circle of like-minded states. \n",
    "               This time-honoured ceremony on the steps of the U.S. Capitol will be a demonstration of the resilience of American democracy. \n",
    "               And a resounding proof that, once again, after four long years, Europe has a friend in the White House. \n",
    "               And he will be standing next to Kamala Harris, the first woman to be Vice-President of the United States.\n",
    "               This is a historic achievement and this also makes this day very special. \n",
    "               This new dawn in America is the moment we have been waiting for, so long. \n",
    "               Europe is ready for a new start with our oldest and most trusted partner. \n",
    "               And this is why the Commission recently has adopted a new, forward looking transatlantic agenda. \n",
    "               And it focuses on where we can together join forces to push for global change – based on our common values, interests and global influence.\n",
    "               From climate change to health, from digitalisation to democracy – these are global challenges that need renewed and improved global cooperation. \n",
    "               And the European Union and the United States must lead from the front and bring an alliance of like-minded partners with us. \n",
    "               There is of course no greater need for global cooperation in the short term than in tackling the pandemic, which has been so devastating on both sides of the Atlantic.\n",
    "               As you know, the European Union has been leading the global response since day one.\n",
    "               And it was so encouraging that so many U.S. organisations and foundations have helped build and design the COVAX Facility, our global alliance to bring vaccines to the low- and middle-income countries.\n",
    "               Now I am looking forward that the U.S. government will join our common effort. \n",
    "               This will be a strong message. And beyond this, we will propose to the United States to step up our work on health prevention, preparedness and response – at the G20 Health Summit in Rome in May.\n",
    "               And I am delighted that on day one – as they announced – of the new American administration, the United States will rejoin the Paris Agreement.\n",
    "               This will be a very strong starting point for our renewed cooperation. \n",
    "               And of course, way more is to come. We want to deepen our partnership on emissions trading and carbon pricing. \n",
    "               We want to join forces with the United States to fight the loss of biodiversity and the destruction of nature. \n",
    "               We want to develop the technologies that will drive us to climate neutrality. \n",
    "               It is with this new green tech alliance that we will look forward at everything.\n",
    "               From offshore to climate change; from hydrogen that is clean to sustainable batteries and to circular economies that we have to build up to fight this climate change. \n",
    "               We will be ready to engage from day one on.The relief that many of us are feeling about the change of administration in Washington should not blind us to the fact that, although Donald Trump's presidency may be history in just a few hours, his movement will not.\n",
    "               More than 70 million Americans voted for him in the election.\n",
    "               Just a few days ago, several hundred of them stormed the Capitol in Washington, the heart of American democracy.\n",
    "               The television images of that event shocked us all. \n",
    "               That is what happens when words incite action. That is what happens when hate speech and fake news spread like wildfire through digital media. They become a danger to democracy.\n",
    "               We should take these images from the USA as a sobering warning. \n",
    "               Despite our deep-rooted confidence in our European democracy, we are not immune to similar events.\n",
    "               On the contrary – Europe is all too familiar with them. Last August, several hundred right-wing extremists tried to storm the Reichstag building in Berlin. It is only thanks to the courage and vigilance of a handful of police officers that they were not successful. \n",
    "               And we remember Jo Cox, the British Labour Member of Parliament who was murdered by a right-wing extremist in June 2016, during the torrid days leading up to the Brexit referendum. A deed which still makes us shudder today.\n",
    "               Of course, the storming of the Capitol was different. \n",
    "               But in Europe, too, there are people who feel disadvantaged, who are very angry.\n",
    "               There are people who subscribe to rampant conspiracy theories, which are often a confused mixture of completely abstruse fantasies.\n",
    "               And, of course, we too see this hate and contempt for our democracy spreading unfiltered through social media to millions of people.\"\"\""
   ]
  },
  {
   "cell_type": "code",
   "execution_count": 36,
   "metadata": {},
   "outputs": [],
   "source": [
    "# Cleaning the text (preprocessing on the text data)\n",
    "\n",
    "import re                                  #for regular expression\n",
    "from nltk.stem.porter import PorterStemmer # for stemming\n",
    "from nltk.stem import WordNetLemmatizer # for Lammetization , we can use any one of the method \n",
    "from nltk.corpus import stopwords\n",
    "\n",
    "ps = PorterStemmer()\n",
    "lemmt = WordNetLemmatizer() # Here More useful technique is Lammetization because we will get words which will have the meaning.\n",
    "\n",
    "# tokenization , converting into sentenses\n",
    "sentenses = nltk.sent_tokenize(paragraph)\n",
    "corpus = [] # Empty list\n",
    "\n",
    "for i in range(len(sentences)):\n",
    "    review = re.sub('[^a-zA-Z]', ' ', sentences[i]) # Removing all the (',','!','?',numers(1,2,3.....) etc) from the sentenses and converting them into regular expression sentenses,\n",
    "    review = review.lower()              # converting all the sentenses to the lower alphabets(a-z) sentenses\n",
    "    review = review.split()                # converting into list\n",
    "    review = [lemmt.lemmatize(word) for word in review if word not in set(stopwords.words('english'))]\n",
    "    review = ' '.join(review)\n",
    "    corpus.append(review)    "
   ]
  },
  {
   "cell_type": "code",
   "execution_count": 37,
   "metadata": {},
   "outputs": [
    {
     "data": {
      "text/plain": [
       "['beginning dwells magic force',\n",
       " 'jedem anfang wohnt ein zauber inne',\n",
       " 'cannot help think famous line poet hermann hesse looking forward inauguration joe biden hour',\n",
       " 'joe biden oath message healing deeply divided nation',\n",
       " 'message hope world waiting u back circle like minded state',\n",
       " 'time honoured ceremony step u capitol demonstration resilience american democracy',\n",
       " 'resounding proof four long year europe friend white house',\n",
       " 'standing next kamala harris first woman vice president united state',\n",
       " 'historic achievement also make day special',\n",
       " 'new dawn america moment waiting long']"
      ]
     },
     "execution_count": 37,
     "metadata": {},
     "output_type": "execute_result"
    }
   ],
   "source": [
    "corpus[0:10]"
   ]
  },
  {
   "cell_type": "code",
   "execution_count": 38,
   "metadata": {},
   "outputs": [],
   "source": [
    "# Creating Bag of Words Model\n",
    "from sklearn.feature_extraction.text import CountVectorizer\n",
    "cv = CountVectorizer() # CountVectorizer(max_feature = 500) it will only selction top 500 words from BOW\n",
    "x = cv.fit_transform(corpus).toarray()"
   ]
  },
  {
   "cell_type": "code",
   "execution_count": 40,
   "metadata": {},
   "outputs": [
    {
     "data": {
      "text/plain": [
       "(47, 291)"
      ]
     },
     "execution_count": 40,
     "metadata": {},
     "output_type": "execute_result"
    }
   ],
   "source": [
    "x.shape"
   ]
  },
  {
   "cell_type": "code",
   "execution_count": 39,
   "metadata": {},
   "outputs": [
    {
     "data": {
      "text/plain": [
       "array([0, 0, 0, 0, 0, 0, 0, 0, 0, 0, 0, 0, 0, 0, 0, 0, 0, 0, 0, 0, 0, 0,\n",
       "       1, 0, 0, 0, 0, 0, 0, 0, 0, 0, 0, 0, 0, 0, 0, 0, 0, 0, 0, 0, 0, 0,\n",
       "       0, 0, 0, 0, 0, 0, 0, 0, 0, 0, 0, 0, 0, 0, 0, 0, 0, 0, 0, 0, 0, 0,\n",
       "       0, 0, 0, 0, 0, 0, 0, 0, 0, 0, 0, 0, 0, 0, 1, 0, 0, 0, 0, 0, 0, 0,\n",
       "       0, 0, 0, 0, 0, 0, 0, 0, 0, 0, 0, 0, 0, 0, 0, 0, 1, 0, 0, 0, 0, 0,\n",
       "       0, 0, 0, 0, 0, 0, 0, 0, 0, 0, 0, 0, 0, 0, 0, 0, 0, 0, 0, 0, 0, 0,\n",
       "       0, 0, 0, 0, 0, 0, 0, 0, 0, 0, 0, 0, 0, 0, 0, 0, 0, 0, 0, 0, 0, 0,\n",
       "       0, 0, 0, 0, 0, 0, 1, 0, 0, 0, 0, 0, 0, 0, 0, 0, 0, 0, 0, 0, 0, 0,\n",
       "       0, 0, 0, 0, 0, 0, 0, 0, 0, 0, 0, 0, 0, 0, 0, 0, 0, 0, 0, 0, 0, 0,\n",
       "       0, 0, 0, 0, 0, 0, 0, 0, 0, 0, 0, 0, 0, 0, 0, 0, 0, 0, 0, 0, 0, 0,\n",
       "       0, 0, 0, 0, 0, 0, 0, 0, 0, 0, 0, 0, 0, 0, 0, 0, 0, 0, 0, 0, 0, 0,\n",
       "       0, 0, 0, 0, 0, 0, 0, 0, 0, 0, 0, 0, 0, 0, 0, 0, 0, 0, 0, 0, 0, 0,\n",
       "       0, 0, 0, 0, 0, 0, 0, 0, 0, 0, 0, 0, 0, 0, 0, 0, 0, 0, 0, 0, 0, 0,\n",
       "       0, 0, 0, 0, 0], dtype=int64)"
      ]
     },
     "execution_count": 39,
     "metadata": {},
     "output_type": "execute_result"
    }
   ],
   "source": [
    "x[0] # first sentense corresponding 1st row   "
   ]
  },
  {
   "cell_type": "markdown",
   "metadata": {},
   "source": [
    "### Problem with BOW - It gives the same importance to all the words.We are not able to get that which word has                                             more impact/importance than other words."
   ]
  },
  {
   "cell_type": "code",
   "execution_count": null,
   "metadata": {},
   "outputs": [],
   "source": []
  }
 ],
 "metadata": {
  "kernelspec": {
   "display_name": "Python [conda env:py3-TF2.0]",
   "language": "python",
   "name": "conda-env-py3-TF2.0-py"
  },
  "language_info": {
   "codemirror_mode": {
    "name": "ipython",
    "version": 3
   },
   "file_extension": ".py",
   "mimetype": "text/x-python",
   "name": "python",
   "nbconvert_exporter": "python",
   "pygments_lexer": "ipython3",
   "version": "3.6.12"
  }
 },
 "nbformat": 4,
 "nbformat_minor": 4
}
